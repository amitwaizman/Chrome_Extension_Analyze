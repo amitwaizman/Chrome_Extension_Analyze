{
 "cells": [
  {
   "cell_type": "code",
   "execution_count": 4,
   "id": "2ad176d9",
   "metadata": {},
   "outputs": [
    {
     "name": "stderr",
     "output_type": "stream",
     "text": [
      "[nltk_data] Downloading package punkt to /home/rivka/nltk_data...\n",
      "[nltk_data]   Package punkt is already up-to-date!\n"
     ]
    }
   ],
   "source": [
    "from gensim.models import Word2Vec\n",
    "import nltk\n",
    "import joblib \n",
    "import pandas as pd\n",
    "\n",
    "\n",
    "nltk.download('punkt')\n",
    "\n",
    "# file path - this for linux windows you will need \"//\"\n",
    "feature = [\"permission\" , \"permission_number\", \"url_css\", \"check_css_for_script\", \"check_css_for_malicious_code\", \"js_check\", \n",
    "           \"js_url\", \"total_url\", \"premission_new\",\"sus\", \"total_js\", \"label\"]\n",
    "f_path = \"/home/rivka/Desktop/dataset.csv\"\n",
    "df = pd.read_csv(f_path,names= feature, header=None)\n",
    "\n",
    "\n",
    "df[\"premission_new\"] = df[\"premission_new\"].fillna('null')\n",
    "column = df['premission_new']\n",
    "array = column.values\n",
    "lst = array.tolist()\n",
    "\n",
    "text = lst\n",
    "\n",
    "# Tokenize and clean the text\n",
    "tokenized_text = [nltk.word_tokenize(sentence.lower()) for sentence in text]\n",
    "Word2Vec = Word2Vec(tokenized_text,window=5, min_count=1, workers=4)\n",
    "\n",
    "model = open(\"Word2Vec_none.pkl\",\"wb\")\n",
    "joblib.dump(Word2Vec,model)\n",
    "model.close()"
   ]
  }
 ],
 "metadata": {
  "kernelspec": {
   "display_name": "Python 3 (ipykernel)",
   "language": "python",
   "name": "python3"
  },
  "language_info": {
   "codemirror_mode": {
    "name": "ipython",
    "version": 3
   },
   "file_extension": ".py",
   "mimetype": "text/x-python",
   "name": "python",
   "nbconvert_exporter": "python",
   "pygments_lexer": "ipython3",
   "version": "3.9.13"
  }
 },
 "nbformat": 4,
 "nbformat_minor": 5
}
