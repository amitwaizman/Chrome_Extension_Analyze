{
 "cells": [
  {
   "cell_type": "code",
   "execution_count": 36,
   "id": "e125b902",
   "metadata": {},
   "outputs": [],
   "source": [
    "# Imports\n",
    "%matplotlib inline\n",
    "import pandas as pd\n",
    "from sklearn.model_selection import train_test_split\n",
    "import numpy as np\n",
    "from sklearn.metrics import confusion_matrix, classification_report\n",
    "import seaborn as sns\n",
    "from sklearn.ensemble import AdaBoostClassifier\n",
    "from sklearn.datasets import make_classification\n",
    "import nltk\n",
    "import joblib\n",
    "\n",
    "\n",
    "# file path - this for linux windows you will need \"//\"\n",
    "feature = [\"permission\" , \"permission_number\", \"url_css\", \"check_css_for_script\", \"check_css_for_malicious_code\", \"js_check\", \n",
    "           \"js_url\", \"total_url\", \"premission_new\",\"sus\", \"total_js\", \"label\"]\n",
    "f_path = \"/home/rivka/Desktop/dataset.csv\"\n",
    "df = pd.read_csv(f_path,names= feature, header=None)\n",
    "\n",
    "\n",
    "df[\"premission_new\"] = df[\"premission_new\"].fillna('null')\n",
    "column = df['premission_new']\n",
    "array = column.values\n",
    "lst = array.tolist()\n",
    "tokenized_text = [nltk.word_tokenize(sentence.lower()) for sentence in lst]\n",
    "try_model = open(\"Word2Vec.pkl\",\"rb\")\n",
    "try_clf = joblib.load(try_model)\n",
    "new_value = []\n",
    "\n",
    "for x in tokenized_text:\n",
    "    new_value.append(try_clf.wv[x].sum())\n",
    "\n",
    "\n",
    "df[\"premission_new\"] = new_value\n",
    "\n",
    "X = list(zip(df[\"permission_number\"],df[\"url_css\"], df[\"check_css_for_script\"], df[\"check_css_for_malicious_code\"] \n",
    "             ,df[\"js_check\"], df[\"js_url\"],df[\"total_url\"], df[\"premission_new\"]))"
   ]
  },
  {
   "cell_type": "markdown",
   "id": "6d200013",
   "metadata": {},
   "source": [
    "# Machine Learning"
   ]
  },
  {
   "cell_type": "code",
   "execution_count": 37,
   "id": "6fe9ec60",
   "metadata": {},
   "outputs": [],
   "source": [
    "y = np.stack(df[\"label\"])\n",
    "X_train, X_test, y_train, y_test = train_test_split(X, y, test_size=0.3, random_state=42, stratify=y)\n",
    "clf1 = AdaBoostClassifier(n_estimators=95, random_state=0)\n",
    "clf1.fit(X, y)\n",
    "predictions1 = clf1.predict(X_test)"
   ]
  },
  {
   "cell_type": "markdown",
   "id": "4bc610a9",
   "metadata": {},
   "source": [
    "# save machine"
   ]
  },
  {
   "cell_type": "code",
   "execution_count": 38,
   "id": "cf309a67",
   "metadata": {},
   "outputs": [],
   "source": [
    "model = open(\"AdaBoostClassifier.pkl\",\"wb\")\n",
    "joblib.dump(clf1,model)\n",
    "model.close()"
   ]
  },
  {
   "cell_type": "markdown",
   "id": "0efd00ff",
   "metadata": {},
   "source": [
    "# Confusion Matrix"
   ]
  },
  {
   "cell_type": "code",
   "execution_count": 39,
   "id": "ab83ca54",
   "metadata": {},
   "outputs": [
    {
     "name": "stdout",
     "output_type": "stream",
     "text": [
      "              precision    recall  f1-score   support\n",
      "\n",
      "           0    1.00000   0.98333   0.99160        60\n",
      "           1    0.93333   1.00000   0.96552        14\n",
      "\n",
      "    accuracy                        0.98649        74\n",
      "   macro avg    0.96667   0.99167   0.97856        74\n",
      "weighted avg    0.98739   0.98649   0.98666        74\n",
      "\n"
     ]
    },
    {
     "data": {
      "image/png": "[encoded data removed]",
      "text/plain": [
       "<Figure size 640x480 with 2 Axes>"
      ]
     },
     "metadata": {},
     "output_type": "display_data"
    }
   ],
   "source": [
    "true_labels = y_test\n",
    "cf_matrix = confusion_matrix(true_labels, predictions1)\n",
    "clf_report = classification_report(true_labels, predictions1, digits=5)\n",
    "heatmap = sns.heatmap(cf_matrix, annot=True, cmap='Purples', fmt='g', \n",
    "                      xticklabels=np.unique(true_labels), \n",
    "                      yticklabels=np.unique(true_labels)) \n",
    "\n",
    "print(clf_report)"
   ]
  }
 ],
 "metadata": {
  "kernelspec": {
   "display_name": "Python 3 (ipykernel)",
   "language": "python",
   "name": "python3"
  },
  "language_info": {
   "codemirror_mode": {
    "name": "ipython",
    "version": 3
   },
   "file_extension": ".py",
   "mimetype": "text/x-python",
   "name": "python",
   "nbconvert_exporter": "python",
   "pygments_lexer": "ipython3",
   "version": "3.9.13"
  }
 },
 "nbformat": 4,
 "nbformat_minor": 5
}
